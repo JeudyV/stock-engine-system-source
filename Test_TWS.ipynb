{
 "cells": [
  {
   "cell_type": "code",
   "execution_count": null,
   "metadata": {},
   "outputs": [],
   "source": [
    "from ibapi.client import EClient\n",
    "from ibapi.wrapper import EWrapper\n",
    "from ibapi.contract import Contract\n",
    "\n",
    "\n",
    "class TestApp(EWrapper, EClient):\n",
    "    def __init__(self):\n",
    "        EClient.__init__(self, self)\n",
    "\n",
    "    def error(self, reqId, errorCode:int, errorString:str):\n",
    "        print(\"-- \", reqId, \"\",  errorCode, \" \", errorString)\n",
    "\n",
    "    def contractDetails(self, reqId, contractDetails):\n",
    "        print(\"contractDetails \", reqId, \" \", contractDetails)\n",
    "\n",
    "\n",
    "def main():\n",
    "    app = TestApp()\n",
    "\n",
    "    app.connect(\"127.0.0.1\", 4002, 0)\n",
    "\n",
    "    contract = Contract()\n",
    "    contract.symbol = \"AAPL\"\n",
    "    contract.secType = \"STK\"\n",
    "    contract.exchange = \"SMART\"\n",
    "    contract.currency = \"USD\"\n",
    "    contract.primaryExchange = \"NASDAQ\"\n",
    "\n",
    "    app.reqContractDetails(1, contract)\n",
    "\n",
    "    app.run()\n",
    "\n",
    "\n",
    "if __name__ == \"__main__\":\n",
    "    main()"
   ]
  }
 ],
 "metadata": {
  "kernelspec": {
   "display_name": "Python 3",
   "language": "python",
   "name": "python3"
  },
  "language_info": {
   "codemirror_mode": {
    "name": "ipython",
    "version": 3
   },
   "file_extension": ".py",
   "mimetype": "text/x-python",
   "name": "python",
   "nbconvert_exporter": "python",
   "pygments_lexer": "ipython3",
   "version": "3.7.5rc1"
  }
 },
 "nbformat": 4,
 "nbformat_minor": 2
}
