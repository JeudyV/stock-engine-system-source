{
 "cells": [
  {
   "cell_type": "code",
   "execution_count": null,
   "metadata": {},
   "outputs": [],
   "source": [
    "from finviz.screener import Screener\n",
    "\n",
    "filters = ['exch_nasd', 'idx_sp500']  # Shows companies in NASDAQ which are in the S&P500\n",
    "# Get the first 50 results sorted by price ascending\n",
    "stock_list = Screener(order='price')\n",
    "\n",
    "# Export the screener results to .csv\n",
    "stock_list.to_csv()\n",
    "\n",
    "# Create a SQLite database\n",
    "stock_list.to_sqlite()\n",
    "\n",
    "#for stock in stock_list[9:19]:  # Loop through 10th - 20th stocks\n",
    "    #print(stock['Ticker'], stock['Price']) # Print symbol and price\n",
    "\n",
    "# Add more filters\n",
    "#stock_list.add(filters=['fa_div_high'])  # Show stocks with high dividend yield\n",
    "# or just stock_list(filters=['fa_div_high'])\n",
    "\n",
    "# Print the table into the console\n",
    "print(stock_list)"
   ]
  }
 ],
 "metadata": {
  "kernelspec": {
   "display_name": "f_venv",
   "language": "python",
   "name": "f_venv"
  },
  "language_info": {
   "codemirror_mode": {
    "name": "ipython",
    "version": 3
   },
   "file_extension": ".py",
   "mimetype": "text/x-python",
   "name": "python",
   "nbconvert_exporter": "python",
   "pygments_lexer": "ipython3",
   "version": "3.7.5rc1"
  }
 },
 "nbformat": 4,
 "nbformat_minor": 2
}
